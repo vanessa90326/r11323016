{
 "cells": [
  {
   "cell_type": "code",
   "execution_count": 1,
   "metadata": {},
   "outputs": [
    {
     "name": "stderr",
     "output_type": "stream",
     "text": [
      "C:\\Users\\USER\\AppData\\Local\\Temp\\ipykernel_21964\\1759305405.py:16: UserWarning: \n",
      "The dash_core_components package is deprecated. Please replace\n",
      "`import dash_core_components as dcc` with `from dash import dcc`\n",
      "  import dash_core_components as dcc\n",
      "C:\\Users\\USER\\AppData\\Local\\Temp\\ipykernel_21964\\1759305405.py:17: UserWarning: \n",
      "The dash_html_components package is deprecated. Please replace\n",
      "`import dash_html_components as html` with `from dash import html`\n",
      "  import dash_html_components as html\n"
     ]
    }
   ],
   "source": [
    "from selenium import webdriver\n",
    "from selenium.webdriver.common.keys import Keys\n",
    "from bs4 import BeautifulSoup\n",
    "import requests\n",
    "import time\n",
    "import random\n",
    "from selenium import webdriver\n",
    "from selenium.webdriver.common.by import By\n",
    "from selenium.webdriver.support.ui import WebDriverWait\n",
    "from selenium.webdriver.support import expected_conditions as EC\n",
    "import numpy as np\n",
    "import pandas as pd\n",
    "from selenium.webdriver.chrome.options import Options\n",
    "import time\n",
    "import dash\n",
    "import dash_core_components as dcc\n",
    "import dash_html_components as html\n",
    "from dash.dependencies import Input, Output\n",
    "from datetime import datetime, timedelta\n",
    "import plotly.express as px"
   ]
  },
  {
   "cell_type": "markdown",
   "metadata": {},
   "source": [
    "### name, location, price, rating, distance, and comments"
   ]
  },
  {
   "cell_type": "code",
   "execution_count": 20,
   "metadata": {},
   "outputs": [],
   "source": [
    "def webcrawler(location, checkin, checkout):\n",
    "    hnames = []\n",
    "    hlocations = []\n",
    "    hdist = []\n",
    "    hprice = []\n",
    "    hcomments = []\n",
    "    hrating = []\n",
    "    \n",
    "    chrome_options = Options()\n",
    "\n",
    "    chrome_options.add_argument(\"--headless\")\n",
    "\n",
    "    driver = webdriver.Chrome()\n",
    "    \n",
    "    url = f'https://www.booking.com/searchresults.en-us.html?ss={location}&checkin={checkin}&checkout={checkout}'\n",
    "    driver.get(url)\n",
    "\n",
    "    try:\n",
    "        accept = '//*[@id=\"onetrust-accept-btn-handler\"]'\n",
    "        accept_button = WebDriverWait(driver, 2).until(EC.presence_of_element_located((By.XPATH, accept)))\n",
    "        accept_button.click()\n",
    "        page_source = driver.page_source\n",
    "    except:\n",
    "        page_source = driver.page_source\n",
    "\n",
    "    soup = BeautifulSoup(page_source, 'html.parser')\n",
    "\n",
    "    pages = soup.find_all('button', class_='a83ed08757 a2028338ea')\n",
    "    instances = soup.find_all('h1',class_= 'f6431b446c d5f78961c3')\n",
    "    pagenum = []\n",
    "    for page in pages:\n",
    "        pagenum.append(int(page.text))\n",
    "    for instance in instances:\n",
    "        number = instance.text\n",
    "\n",
    "    maxpagenum = np.max(pagenum)\n",
    "\n",
    "    properties = soup.find_all('div', {'class': 'c82435a4b8 a178069f51 a6ae3c2b40 a18aeea94d d794b7a0f7 f53e278e95 c6710787a4', 'data-testid':'property-card'})\n",
    "    for k, property in enumerate(properties):\n",
    "        names = property.find('div', {'class':'f6431b446c a15b38c233', 'data-testid':'title'})\n",
    "        locations = property.find('span', {'class':'aee5343fdb def9bc142a', 'data-testid':'address'})\n",
    "        distances = property.find('span',{'data-testid':\"distance\"})\n",
    "        rating = property.find('div', {'class': 'a3b8729ab1 d86cee9b25'})\n",
    "        price = property.find('span', {'class': 'f6431b446c fbfd7c1165 e84eb96b1f', 'data-testid':\"price-and-discounted-price\"})\n",
    "        comments = property.find('div', {'class': 'a3b8729ab1 e6208ee469 cb2cbb3ccb'})\n",
    "        if names == None:\n",
    "            names = []\n",
    "            \n",
    "            hnames.append(np.nan)\n",
    "        if locations == None:\n",
    "            locations = []\n",
    "            \n",
    "            hlocations.append(np.nan)\n",
    "        if distances == None:\n",
    "            distances = []\n",
    "           \n",
    "            hdist.append(np.nan)\n",
    "        if rating == None:\n",
    "            rating = []\n",
    "            \n",
    "            hrating.append(np.nan)\n",
    "        if price == None:\n",
    "            price = []\n",
    "            \n",
    "            hprice.append(np.nan)\n",
    "        if comments == None:\n",
    "            comments = []\n",
    "            \n",
    "            hcomments.append(np.nan)\n",
    "\n",
    "        for element in names:\n",
    "            hnames.append(element.text)\n",
    "            \n",
    "        for element in locations:\n",
    "            hlocations.append(element.text)\n",
    "            \n",
    "        for element in distances:\n",
    "            dist = float(element.text.split(' ')[0])\n",
    "            if dist>99.9:\n",
    "                dist = dist/1000\n",
    "            hdist.append(dist)\n",
    "            \n",
    "        for element in rating:\n",
    "            hrating.append(float(element.text))\n",
    "            \n",
    "        for element in price:\n",
    "            p = element.text\n",
    "            hprice.append(int(p.split()[1].replace(',','')))\n",
    "            \n",
    "        for element in comments:\n",
    "            comment = element.text\n",
    "            if comment == 'Review score ':\n",
    "                    comment = 'Rating under 7'\n",
    "            hcomments.append(comment)\n",
    "            \n",
    "\n",
    "    i = 1\n",
    "    while i < maxpagenum:\n",
    "        i = i+1\n",
    "\n",
    "        nextapgexpath ='//*[@id=\"bodyconstraint-inner\"]/div[2]/div/div[2]/div[3]/div[2]/div[2]/div[4]/div[2]/nav/nav/div/div[3]/button'\n",
    "\n",
    "        nextapge_button = WebDriverWait(driver, 0.1).until(EC.presence_of_element_located((By.XPATH, nextapgexpath)))\n",
    "\n",
    "        nextapge_button.click()\n",
    "        time.sleep(1)\n",
    "\n",
    "        page_source = driver.page_source\n",
    "\n",
    "        soup = BeautifulSoup(page_source, 'html.parser')\n",
    "        properties = soup.find_all('div', {'class': 'c82435a4b8 a178069f51 a6ae3c2b40 a18aeea94d d794b7a0f7 f53e278e95 c6710787a4', 'data-testid':'property-card'})\n",
    "        for k, property in enumerate(properties):\n",
    "            names = property.find('div', {'class':'f6431b446c a15b38c233', 'data-testid':'title'})\n",
    "            locations = property.find('span', {'class':'aee5343fdb def9bc142a', 'data-testid':'address'})\n",
    "            distances = property.find('span',{'data-testid':\"distance\"})\n",
    "            rating = property.find('div', {'class': 'a3b8729ab1 d86cee9b25'})\n",
    "            price = property.find('span', {'class': 'f6431b446c fbfd7c1165 e84eb96b1f', 'data-testid':\"price-and-discounted-price\"})\n",
    "            comments = property.find('div', {'class': 'a3b8729ab1 e6208ee469 cb2cbb3ccb'})\n",
    "            if names == None:\n",
    "                names = []\n",
    "                \n",
    "                hnames.append(np.nan)\n",
    "            if locations == None:\n",
    "                locations = []\n",
    "                \n",
    "                hlocations.append(np.nan)\n",
    "            if distances == None:\n",
    "                distances = []\n",
    "                \n",
    "                hdist.append(np.nan)\n",
    "            if rating == None:\n",
    "                rating = []\n",
    "                \n",
    "                hrating.append(np.nan)\n",
    "            if price == None:\n",
    "                price = []\n",
    "                \n",
    "                hprice.append(np.nan)\n",
    "            if comments == None:\n",
    "                comments = []\n",
    "                \n",
    "                hcomments.append(np.nan)\n",
    "\n",
    "            for element in names:\n",
    "                hnames.append(element.text)\n",
    "                \n",
    "            for element in locations:\n",
    "                hlocations.append(element.text)\n",
    "                \n",
    "            for element in distances:\n",
    "                dist = float(element.text.split(' ')[0])\n",
    "                if dist>99.9:\n",
    "                    dist = dist/1000\n",
    "                hdist.append(dist)\n",
    "                \n",
    "            for element in rating:\n",
    "                hrating.append(float(element.text))\n",
    "                \n",
    "            for element in price:\n",
    "                p = element.text\n",
    "                hprice.append(int(p.split()[1].replace(',','')))\n",
    "                \n",
    "            for element in comments:\n",
    "                comment = element.text\n",
    "                if comment == 'Review score ':\n",
    "                        comment = 'Rating under 7'\n",
    "                hcomments.append(comment)\n",
    "                \n",
    "\n",
    "    \n",
    "    data = pd.DataFrame({'name':hnames,'location':hlocations,'price':hprice,'ratings':hrating,'distance':hdist,'comments':hcomments})\n",
    "    data.to_csv(f'Hotel_{location}_{checkin}_{checkout}.csv')\n",
    "    return data"
   ]
  },
  {
   "cell_type": "code",
   "execution_count": 21,
   "metadata": {},
   "outputs": [],
   "source": [
    "location = '永和'\n",
    "checkin = '2023-11-24'\n",
    "checkout = '2023-11-25'\n",
    "data = webcrawler(location, checkin, checkout)"
   ]
  },
  {
   "cell_type": "code",
   "execution_count": 22,
   "metadata": {},
   "outputs": [
    {
     "data": {
      "text/html": [
       "<div>\n",
       "<style scoped>\n",
       "    .dataframe tbody tr th:only-of-type {\n",
       "        vertical-align: middle;\n",
       "    }\n",
       "\n",
       "    .dataframe tbody tr th {\n",
       "        vertical-align: top;\n",
       "    }\n",
       "\n",
       "    .dataframe thead th {\n",
       "        text-align: right;\n",
       "    }\n",
       "</style>\n",
       "<table border=\"1\" class=\"dataframe\">\n",
       "  <thead>\n",
       "    <tr style=\"text-align: right;\">\n",
       "      <th></th>\n",
       "      <th>name</th>\n",
       "      <th>location</th>\n",
       "      <th>price</th>\n",
       "      <th>ratings</th>\n",
       "      <th>distance</th>\n",
       "      <th>comments</th>\n",
       "    </tr>\n",
       "  </thead>\n",
       "  <tbody>\n",
       "    <tr>\n",
       "      <th>0</th>\n",
       "      <td>Discovery Motel - Yonghe</td>\n",
       "      <td>Yonghe</td>\n",
       "      <td>1328</td>\n",
       "      <td>7.4</td>\n",
       "      <td>1.3</td>\n",
       "      <td>Good</td>\n",
       "    </tr>\n",
       "    <tr>\n",
       "      <th>1</th>\n",
       "      <td>Loft17森活休閒園區之森活藝術Resort</td>\n",
       "      <td>Shiding</td>\n",
       "      <td>1701</td>\n",
       "      <td>9.3</td>\n",
       "      <td>15.9</td>\n",
       "      <td>Wonderful</td>\n",
       "    </tr>\n",
       "    <tr>\n",
       "      <th>2</th>\n",
       "      <td>Meets Happy Hotel</td>\n",
       "      <td>Yonghe</td>\n",
       "      <td>594</td>\n",
       "      <td>6.1</td>\n",
       "      <td>0.4</td>\n",
       "      <td>Rating under 7</td>\n",
       "    </tr>\n",
       "    <tr>\n",
       "      <th>3</th>\n",
       "      <td>9 Hotel</td>\n",
       "      <td>Xindian</td>\n",
       "      <td>1228</td>\n",
       "      <td>7.9</td>\n",
       "      <td>4.1</td>\n",
       "      <td>Good</td>\n",
       "    </tr>\n",
       "    <tr>\n",
       "      <th>4</th>\n",
       "      <td>Discovery Motel - Tucheng</td>\n",
       "      <td>Tucheng</td>\n",
       "      <td>641</td>\n",
       "      <td>7.7</td>\n",
       "      <td>4.7</td>\n",
       "      <td>Good</td>\n",
       "    </tr>\n",
       "    <tr>\n",
       "      <th>...</th>\n",
       "      <td>...</td>\n",
       "      <td>...</td>\n",
       "      <td>...</td>\n",
       "      <td>...</td>\n",
       "      <td>...</td>\n",
       "      <td>...</td>\n",
       "    </tr>\n",
       "    <tr>\n",
       "      <th>262</th>\n",
       "      <td>里萊行旅 - 桃園館</td>\n",
       "      <td>Taoyuan</td>\n",
       "      <td>1301</td>\n",
       "      <td>7.9</td>\n",
       "      <td>21.7</td>\n",
       "      <td>Good</td>\n",
       "    </tr>\n",
       "    <tr>\n",
       "      <th>263</th>\n",
       "      <td>If Motel In Fashion</td>\n",
       "      <td>Taoyuan</td>\n",
       "      <td>1201</td>\n",
       "      <td>8.2</td>\n",
       "      <td>21.8</td>\n",
       "      <td>Very Good</td>\n",
       "    </tr>\n",
       "    <tr>\n",
       "      <th>264</th>\n",
       "      <td>蟲鳴鳥叫</td>\n",
       "      <td>Tamsui</td>\n",
       "      <td>2652</td>\n",
       "      <td>NaN</td>\n",
       "      <td>21.4</td>\n",
       "      <td>NaN</td>\n",
       "    </tr>\n",
       "    <tr>\n",
       "      <th>265</th>\n",
       "      <td>懶人露營-淡水帳篷房</td>\n",
       "      <td>Lun-ting</td>\n",
       "      <td>877</td>\n",
       "      <td>NaN</td>\n",
       "      <td>20.6</td>\n",
       "      <td>NaN</td>\n",
       "    </tr>\n",
       "    <tr>\n",
       "      <th>266</th>\n",
       "      <td>Yi Pin Business Hotel</td>\n",
       "      <td>Taoyuan</td>\n",
       "      <td>627</td>\n",
       "      <td>6.3</td>\n",
       "      <td>20.3</td>\n",
       "      <td>Rating under 7</td>\n",
       "    </tr>\n",
       "  </tbody>\n",
       "</table>\n",
       "<p>267 rows × 6 columns</p>\n",
       "</div>"
      ],
      "text/plain": [
       "                          name  location  price  ratings  distance  \\\n",
       "0     Discovery Motel - Yonghe    Yonghe   1328      7.4       1.3   \n",
       "1      Loft17森活休閒園區之森活藝術Resort   Shiding   1701      9.3      15.9   \n",
       "2            Meets Happy Hotel    Yonghe    594      6.1       0.4   \n",
       "3                      9 Hotel   Xindian   1228      7.9       4.1   \n",
       "4    Discovery Motel - Tucheng   Tucheng    641      7.7       4.7   \n",
       "..                         ...       ...    ...      ...       ...   \n",
       "262                 里萊行旅 - 桃園館   Taoyuan   1301      7.9      21.7   \n",
       "263        If Motel In Fashion   Taoyuan   1201      8.2      21.8   \n",
       "264                       蟲鳴鳥叫    Tamsui   2652      NaN      21.4   \n",
       "265                 懶人露營-淡水帳篷房  Lun-ting    877      NaN      20.6   \n",
       "266      Yi Pin Business Hotel   Taoyuan    627      6.3      20.3   \n",
       "\n",
       "           comments  \n",
       "0             Good   \n",
       "1        Wonderful   \n",
       "2    Rating under 7  \n",
       "3             Good   \n",
       "4             Good   \n",
       "..              ...  \n",
       "262           Good   \n",
       "263      Very Good   \n",
       "264             NaN  \n",
       "265             NaN  \n",
       "266  Rating under 7  \n",
       "\n",
       "[267 rows x 6 columns]"
      ]
     },
     "execution_count": 22,
     "metadata": {},
     "output_type": "execute_result"
    }
   ],
   "source": [
    "data"
   ]
  },
  {
   "cell_type": "code",
   "execution_count": 71,
   "metadata": {},
   "outputs": [],
   "source": [
    "data.to_csv(r\"C:\\Users\\USER\\Downloads\\data.csv\")"
   ]
  },
  {
   "cell_type": "code",
   "execution_count": 72,
   "metadata": {},
   "outputs": [],
   "source": [
    "data = pd.read_csv(r\"C:\\Users\\USER\\Downloads\\data.csv\",index_col=0)"
   ]
  },
  {
   "cell_type": "code",
   "execution_count": 73,
   "metadata": {},
   "outputs": [],
   "source": [
    "fig = px.scatter(data, x='price', y='distance', color='ratings', title='Scatter Plot of Price vs Distance',\n",
    "                 labels={'Price': 'price', 'Distance': 'distance', 'Rating': 'ratings'})\n"
   ]
  },
  {
   "cell_type": "code",
   "execution_count": 74,
   "metadata": {},
   "outputs": [
    {
     "data": {
      "application/vnd.plotly.v1+json": {
       "config": {
        "plotlyServerURL": "https://plot.ly"
       },
       "data": [
        {
         "hovertemplate": "price=%{x}<br>distance=%{y}<br>ratings=%{marker.color}<extra></extra>",
         "legendgroup": "",
         "marker": {
          "color": [
           7.4,
           6.1,
           7.4,
           6.2,
           7.7,
           8.7,
           9.3,
           7.8,
           8.3,
           7.9,
           6.1,
           null,
           6.6,
           8.3,
           8.8,
           7.7,
           8.2,
           8.4,
           7.7,
           7.4,
           7.8,
           7.4,
           7.7,
           9.3,
           8.5,
           8.1,
           8.5,
           9,
           8.6,
           7.9,
           8.9,
           7.9,
           7.8,
           8.1,
           8.8,
           8,
           8.7,
           7,
           8.7,
           8.2,
           7.6,
           6.7,
           6.3,
           7.2,
           7.5,
           6.5,
           7.6,
           7.3,
           8.5,
           8,
           7.5,
           8,
           8.4,
           7.7,
           8.6,
           7.7,
           9.2,
           7.6,
           8.8,
           6.4,
           8.4,
           8.5,
           7.4,
           6.9,
           8.5,
           8.4,
           9.1,
           8.1,
           7.3,
           7.7,
           8.9,
           7.4,
           6.9,
           7.9,
           8.4,
           7.3,
           6.6,
           8.2,
           8.2,
           7.5,
           6.8,
           7.4,
           8.5,
           8.8,
           7.3,
           7.3,
           8.6,
           5.9,
           7.2,
           8.2,
           8.3,
           7,
           7.6,
           7,
           7.5,
           7.5,
           7.9,
           6.7,
           8.6,
           7.2,
           5.5,
           7.2,
           8.7,
           8,
           8.8,
           9,
           9.3,
           8,
           8.6,
           8.2,
           8.2,
           8.3,
           8.6,
           8.2,
           8.2,
           8.3,
           8.9,
           6.6,
           8.1,
           7.6,
           7.2,
           7.8,
           7.3,
           8,
           8.6,
           8.6,
           7.9,
           8.3,
           8.1,
           7.5,
           8.1,
           7.5,
           7.4,
           null,
           7.6,
           6.6,
           8.4,
           8.6,
           7.2,
           7.7,
           8.6,
           7.9,
           9.1,
           8.6,
           7,
           7.4,
           8.6,
           9.2,
           8.2,
           7.4,
           7.1,
           7.7,
           7.4,
           7.8,
           7.4,
           8.7,
           8.2,
           7.9,
           8.8,
           7.4,
           7.1,
           8.5,
           7.5,
           7.5,
           8.9,
           6.6,
           8.4,
           8.4,
           8.6,
           8.3,
           9,
           6.2,
           8.8,
           7.7,
           8.1,
           8.8,
           8.9,
           8.5,
           8.2,
           7.1,
           3.9,
           7.1,
           7.6,
           7.4,
           9.3,
           7.4,
           8.6,
           7.1,
           7,
           8.5,
           7.1,
           8.1,
           7.6,
           7,
           8.5,
           8.3,
           8.2,
           8.7,
           8.6,
           6.5,
           7,
           7.8,
           7.9,
           8.7,
           8,
           8.4,
           7.3,
           8.2,
           8.7,
           8.8,
           7.5,
           7.9,
           8.1,
           7.1,
           null,
           6.6,
           8.2,
           7.5,
           7.5,
           8.1,
           8.6,
           7.8,
           8.7,
           7.6,
           7.3,
           8.2,
           9,
           6.9,
           6.2,
           7.4,
           7.2,
           7.8,
           7.2,
           8.3,
           6.3,
           8.2,
           8.1,
           8.8,
           7.7,
           7.5,
           8.4,
           8.6,
           8.2,
           7.4,
           7.7,
           8.5,
           9,
           6.7,
           8.1,
           6.3,
           6.3,
           7.8,
           6.5,
           5.6,
           8.5,
           8.4,
           8.2,
           7.7,
           8.4,
           7.6,
           8.2,
           7.9,
           5,
           null,
           null,
           7.1,
           8.3
          ],
          "coloraxis": "coloraxis",
          "symbol": "circle"
         },
         "mode": "markers",
         "name": "",
         "orientation": "v",
         "showlegend": false,
         "type": "scatter",
         "x": [
          1328,
          594,
          1174,
          851,
          641,
          1419,
          1701,
          1118,
          7006,
          1228,
          1051,
          1850,
          867,
          2459,
          2029,
          1330,
          921,
          1961,
          3817,
          1294,
          984,
          1067,
          887,
          1775,
          3128,
          2721,
          3296,
          2887,
          4671,
          2120,
          2529,
          2940,
          1386,
          2529,
          3930,
          3367,
          2004,
          1952,
          3910,
          4335,
          1104,
          701,
          1334,
          1441,
          560,
          2027,
          1171,
          1826,
          2502,
          1461,
          927,
          1412,
          1168,
          2002,
          3776,
          977,
          4624,
          1501,
          2502,
          2335,
          2690,
          2947,
          2786,
          1621,
          1501,
          2242,
          1962,
          2512,
          2669,
          1534,
          3003,
          2642,
          2002,
          725,
          1028,
          480,
          801,
          1471,
          1151,
          1407,
          1367,
          1228,
          2967,
          2335,
          1051,
          1031,
          1728,
          727,
          1812,
          2466,
          3121,
          961,
          1051,
          527,
          1166,
          1228,
          1228,
          532,
          1420,
          998,
          794,
          1014,
          2342,
          1523,
          1501,
          1501,
          4422,
          1835,
          3661,
          3129,
          3171,
          2587,
          3468,
          1862,
          1753,
          3661,
          4706,
          1043,
          961,
          1661,
          939,
          1211,
          1578,
          1492,
          1361,
          874,
          1040,
          1461,
          1648,
          897,
          2522,
          900,
          1501,
          1315,
          1886,
          1079,
          1790,
          3661,
          2502,
          827,
          1757,
          1028,
          19017,
          6157,
          1362,
          2054,
          2672,
          5411,
          18265,
          761,
          627,
          794,
          929,
          1541,
          761,
          1021,
          4740,
          2354,
          2066,
          1568,
          946,
          3486,
          994,
          1491,
          1982,
          970,
          4774,
          5205,
          1591,
          1470,
          901,
          934,
          1525,
          2402,
          3189,
          5138,
          767,
          894,
          2235,
          859,
          362,
          527,
          1334,
          701,
          1701,
          2120,
          2762,
          474,
          400,
          3507,
          594,
          2396,
          1467,
          1095,
          1603,
          1094,
          4337,
          6936,
          727,
          727,
          2135,
          1021,
          2269,
          1561,
          1112,
          3203,
          601,
          787,
          727,
          1128,
          1201,
          727,
          1334,
          627,
          987,
          961,
          1001,
          589,
          601,
          1174,
          767,
          988,
          1042,
          661,
          784,
          556,
          1101,
          534,
          394,
          649,
          589,
          630,
          400,
          947,
          727,
          977,
          901,
          1132,
          661,
          761,
          1105,
          4624,
          1163,
          657,
          2422,
          734,
          964,
          560,
          681,
          394,
          394,
          919,
          460,
          460,
          1031,
          661,
          794,
          1128,
          1231,
          799,
          1201,
          1301,
          334,
          877,
          2652,
          727,
          661
         ],
         "xaxis": "x",
         "y": [
          1.3,
          0.4,
          3.6,
          3.6,
          4.7,
          3.4,
          15.9,
          3.2,
          3.8,
          4.1,
          2.9,
          4.8,
          3.9,
          4.5,
          4,
          3.2,
          4.3,
          4,
          4.1,
          3.3,
          4,
          4.1,
          3.9,
          4.8,
          4.4,
          4,
          4.4,
          4.8,
          4.4,
          4.4,
          4.1,
          3.9,
          4.3,
          3.2,
          4.3,
          4.1,
          4.2,
          4.1,
          3.4,
          4.3,
          3.7,
          3.8,
          4.2,
          4.2,
          4.3,
          4,
          4.2,
          4.3,
          5,
          4.1,
          4.3,
          4.2,
          3.9,
          4.3,
          4,
          3.4,
          4.2,
          4.4,
          4.6,
          3.9,
          4.3,
          4.8,
          4.3,
          4.4,
          4.1,
          5,
          4.2,
          4.4,
          4,
          4.4,
          4.2,
          4.4,
          4.4,
          8.3,
          8.7,
          8.5,
          9.8,
          8.2,
          8.8,
          7.4,
          9.7,
          5.9,
          5.4,
          5.4,
          5.7,
          5.7,
          6.1,
          7.9,
          5.4,
          5.6,
          9.5,
          8.4,
          6.4,
          9,
          5.9,
          5.9,
          5.9,
          6.2,
          7.6,
          5.7,
          6.1,
          8.7,
          8.3,
          6.6,
          9.9,
          5.4,
          8.9,
          5.3,
          9.2,
          5.3,
          5.2,
          7.3,
          6.2,
          5.8,
          5.3,
          6,
          6.3,
          6.2,
          6.2,
          5.5,
          6.3,
          5.4,
          9.4,
          7.8,
          8.8,
          7.3,
          6.4,
          5,
          6.1,
          5.7,
          5.9,
          5.5,
          6.5,
          5,
          6.5,
          6.2,
          5,
          8.6,
          5.7,
          9.9,
          9.6,
          5.8,
          5.9,
          5.2,
          5.7,
          5.4,
          6.1,
          6,
          6.2,
          11.2,
          11,
          14.9,
          12.1,
          14.4,
          14.4,
          12.7,
          11.8,
          14.4,
          10.4,
          14.3,
          12.5,
          14.4,
          10.6,
          11.8,
          12,
          14.3,
          14.5,
          14.2,
          12.8,
          14.3,
          10.1,
          14.4,
          14,
          14.5,
          14.3,
          14.3,
          19.7,
          15.8,
          17,
          16.4,
          19.7,
          17.4,
          16.6,
          15.7,
          15.9,
          15.5,
          18.8,
          16.4,
          17.8,
          17,
          16.2,
          16.5,
          17.1,
          16.3,
          18.7,
          17.3,
          18.2,
          15.6,
          17.3,
          16,
          16,
          19.4,
          16.6,
          18.1,
          19.2,
          16.4,
          19.6,
          18.9,
          19.6,
          19.5,
          19.4,
          23.1,
          23.5,
          23.1,
          20.6,
          23.3,
          23.1,
          20.4,
          20.5,
          20.8,
          22.4,
          21.8,
          21.7,
          21.5,
          21.5,
          20.4,
          22.4,
          20.5,
          22.6,
          21.5,
          20.3,
          20.5,
          20.1,
          22.3,
          24.5,
          20.6,
          22.4,
          22,
          20.9,
          21,
          21.5,
          23.7,
          22.3,
          20.1,
          22.1,
          24.8,
          22.6,
          20.1,
          20.7,
          20.3,
          20.3,
          22.1,
          20.6,
          20.4,
          22,
          20.1,
          20.6,
          21.1,
          21.6,
          21.9,
          21.8,
          21.7,
          20.5,
          20.6,
          21.4,
          24.3,
          22.8
         ],
         "yaxis": "y"
        }
       ],
       "layout": {
        "coloraxis": {
         "colorbar": {
          "title": {
           "text": "ratings"
          }
         },
         "colorscale": [
          [
           0,
           "#0d0887"
          ],
          [
           0.1111111111111111,
           "#46039f"
          ],
          [
           0.2222222222222222,
           "#7201a8"
          ],
          [
           0.3333333333333333,
           "#9c179e"
          ],
          [
           0.4444444444444444,
           "#bd3786"
          ],
          [
           0.5555555555555556,
           "#d8576b"
          ],
          [
           0.6666666666666666,
           "#ed7953"
          ],
          [
           0.7777777777777778,
           "#fb9f3a"
          ],
          [
           0.8888888888888888,
           "#fdca26"
          ],
          [
           1,
           "#f0f921"
          ]
         ]
        },
        "legend": {
         "tracegroupgap": 0
        },
        "template": {
         "data": {
          "bar": [
           {
            "error_x": {
             "color": "#2a3f5f"
            },
            "error_y": {
             "color": "#2a3f5f"
            },
            "marker": {
             "line": {
              "color": "#E5ECF6",
              "width": 0.5
             },
             "pattern": {
              "fillmode": "overlay",
              "size": 10,
              "solidity": 0.2
             }
            },
            "type": "bar"
           }
          ],
          "barpolar": [
           {
            "marker": {
             "line": {
              "color": "#E5ECF6",
              "width": 0.5
             },
             "pattern": {
              "fillmode": "overlay",
              "size": 10,
              "solidity": 0.2
             }
            },
            "type": "barpolar"
           }
          ],
          "carpet": [
           {
            "aaxis": {
             "endlinecolor": "#2a3f5f",
             "gridcolor": "white",
             "linecolor": "white",
             "minorgridcolor": "white",
             "startlinecolor": "#2a3f5f"
            },
            "baxis": {
             "endlinecolor": "#2a3f5f",
             "gridcolor": "white",
             "linecolor": "white",
             "minorgridcolor": "white",
             "startlinecolor": "#2a3f5f"
            },
            "type": "carpet"
           }
          ],
          "choropleth": [
           {
            "colorbar": {
             "outlinewidth": 0,
             "ticks": ""
            },
            "type": "choropleth"
           }
          ],
          "contour": [
           {
            "colorbar": {
             "outlinewidth": 0,
             "ticks": ""
            },
            "colorscale": [
             [
              0,
              "#0d0887"
             ],
             [
              0.1111111111111111,
              "#46039f"
             ],
             [
              0.2222222222222222,
              "#7201a8"
             ],
             [
              0.3333333333333333,
              "#9c179e"
             ],
             [
              0.4444444444444444,
              "#bd3786"
             ],
             [
              0.5555555555555556,
              "#d8576b"
             ],
             [
              0.6666666666666666,
              "#ed7953"
             ],
             [
              0.7777777777777778,
              "#fb9f3a"
             ],
             [
              0.8888888888888888,
              "#fdca26"
             ],
             [
              1,
              "#f0f921"
             ]
            ],
            "type": "contour"
           }
          ],
          "contourcarpet": [
           {
            "colorbar": {
             "outlinewidth": 0,
             "ticks": ""
            },
            "type": "contourcarpet"
           }
          ],
          "heatmap": [
           {
            "colorbar": {
             "outlinewidth": 0,
             "ticks": ""
            },
            "colorscale": [
             [
              0,
              "#0d0887"
             ],
             [
              0.1111111111111111,
              "#46039f"
             ],
             [
              0.2222222222222222,
              "#7201a8"
             ],
             [
              0.3333333333333333,
              "#9c179e"
             ],
             [
              0.4444444444444444,
              "#bd3786"
             ],
             [
              0.5555555555555556,
              "#d8576b"
             ],
             [
              0.6666666666666666,
              "#ed7953"
             ],
             [
              0.7777777777777778,
              "#fb9f3a"
             ],
             [
              0.8888888888888888,
              "#fdca26"
             ],
             [
              1,
              "#f0f921"
             ]
            ],
            "type": "heatmap"
           }
          ],
          "heatmapgl": [
           {
            "colorbar": {
             "outlinewidth": 0,
             "ticks": ""
            },
            "colorscale": [
             [
              0,
              "#0d0887"
             ],
             [
              0.1111111111111111,
              "#46039f"
             ],
             [
              0.2222222222222222,
              "#7201a8"
             ],
             [
              0.3333333333333333,
              "#9c179e"
             ],
             [
              0.4444444444444444,
              "#bd3786"
             ],
             [
              0.5555555555555556,
              "#d8576b"
             ],
             [
              0.6666666666666666,
              "#ed7953"
             ],
             [
              0.7777777777777778,
              "#fb9f3a"
             ],
             [
              0.8888888888888888,
              "#fdca26"
             ],
             [
              1,
              "#f0f921"
             ]
            ],
            "type": "heatmapgl"
           }
          ],
          "histogram": [
           {
            "marker": {
             "pattern": {
              "fillmode": "overlay",
              "size": 10,
              "solidity": 0.2
             }
            },
            "type": "histogram"
           }
          ],
          "histogram2d": [
           {
            "colorbar": {
             "outlinewidth": 0,
             "ticks": ""
            },
            "colorscale": [
             [
              0,
              "#0d0887"
             ],
             [
              0.1111111111111111,
              "#46039f"
             ],
             [
              0.2222222222222222,
              "#7201a8"
             ],
             [
              0.3333333333333333,
              "#9c179e"
             ],
             [
              0.4444444444444444,
              "#bd3786"
             ],
             [
              0.5555555555555556,
              "#d8576b"
             ],
             [
              0.6666666666666666,
              "#ed7953"
             ],
             [
              0.7777777777777778,
              "#fb9f3a"
             ],
             [
              0.8888888888888888,
              "#fdca26"
             ],
             [
              1,
              "#f0f921"
             ]
            ],
            "type": "histogram2d"
           }
          ],
          "histogram2dcontour": [
           {
            "colorbar": {
             "outlinewidth": 0,
             "ticks": ""
            },
            "colorscale": [
             [
              0,
              "#0d0887"
             ],
             [
              0.1111111111111111,
              "#46039f"
             ],
             [
              0.2222222222222222,
              "#7201a8"
             ],
             [
              0.3333333333333333,
              "#9c179e"
             ],
             [
              0.4444444444444444,
              "#bd3786"
             ],
             [
              0.5555555555555556,
              "#d8576b"
             ],
             [
              0.6666666666666666,
              "#ed7953"
             ],
             [
              0.7777777777777778,
              "#fb9f3a"
             ],
             [
              0.8888888888888888,
              "#fdca26"
             ],
             [
              1,
              "#f0f921"
             ]
            ],
            "type": "histogram2dcontour"
           }
          ],
          "mesh3d": [
           {
            "colorbar": {
             "outlinewidth": 0,
             "ticks": ""
            },
            "type": "mesh3d"
           }
          ],
          "parcoords": [
           {
            "line": {
             "colorbar": {
              "outlinewidth": 0,
              "ticks": ""
             }
            },
            "type": "parcoords"
           }
          ],
          "pie": [
           {
            "automargin": true,
            "type": "pie"
           }
          ],
          "scatter": [
           {
            "fillpattern": {
             "fillmode": "overlay",
             "size": 10,
             "solidity": 0.2
            },
            "type": "scatter"
           }
          ],
          "scatter3d": [
           {
            "line": {
             "colorbar": {
              "outlinewidth": 0,
              "ticks": ""
             }
            },
            "marker": {
             "colorbar": {
              "outlinewidth": 0,
              "ticks": ""
             }
            },
            "type": "scatter3d"
           }
          ],
          "scattercarpet": [
           {
            "marker": {
             "colorbar": {
              "outlinewidth": 0,
              "ticks": ""
             }
            },
            "type": "scattercarpet"
           }
          ],
          "scattergeo": [
           {
            "marker": {
             "colorbar": {
              "outlinewidth": 0,
              "ticks": ""
             }
            },
            "type": "scattergeo"
           }
          ],
          "scattergl": [
           {
            "marker": {
             "colorbar": {
              "outlinewidth": 0,
              "ticks": ""
             }
            },
            "type": "scattergl"
           }
          ],
          "scattermapbox": [
           {
            "marker": {
             "colorbar": {
              "outlinewidth": 0,
              "ticks": ""
             }
            },
            "type": "scattermapbox"
           }
          ],
          "scatterpolar": [
           {
            "marker": {
             "colorbar": {
              "outlinewidth": 0,
              "ticks": ""
             }
            },
            "type": "scatterpolar"
           }
          ],
          "scatterpolargl": [
           {
            "marker": {
             "colorbar": {
              "outlinewidth": 0,
              "ticks": ""
             }
            },
            "type": "scatterpolargl"
           }
          ],
          "scatterternary": [
           {
            "marker": {
             "colorbar": {
              "outlinewidth": 0,
              "ticks": ""
             }
            },
            "type": "scatterternary"
           }
          ],
          "surface": [
           {
            "colorbar": {
             "outlinewidth": 0,
             "ticks": ""
            },
            "colorscale": [
             [
              0,
              "#0d0887"
             ],
             [
              0.1111111111111111,
              "#46039f"
             ],
             [
              0.2222222222222222,
              "#7201a8"
             ],
             [
              0.3333333333333333,
              "#9c179e"
             ],
             [
              0.4444444444444444,
              "#bd3786"
             ],
             [
              0.5555555555555556,
              "#d8576b"
             ],
             [
              0.6666666666666666,
              "#ed7953"
             ],
             [
              0.7777777777777778,
              "#fb9f3a"
             ],
             [
              0.8888888888888888,
              "#fdca26"
             ],
             [
              1,
              "#f0f921"
             ]
            ],
            "type": "surface"
           }
          ],
          "table": [
           {
            "cells": {
             "fill": {
              "color": "#EBF0F8"
             },
             "line": {
              "color": "white"
             }
            },
            "header": {
             "fill": {
              "color": "#C8D4E3"
             },
             "line": {
              "color": "white"
             }
            },
            "type": "table"
           }
          ]
         },
         "layout": {
          "annotationdefaults": {
           "arrowcolor": "#2a3f5f",
           "arrowhead": 0,
           "arrowwidth": 1
          },
          "autotypenumbers": "strict",
          "coloraxis": {
           "colorbar": {
            "outlinewidth": 0,
            "ticks": ""
           }
          },
          "colorscale": {
           "diverging": [
            [
             0,
             "#8e0152"
            ],
            [
             0.1,
             "#c51b7d"
            ],
            [
             0.2,
             "#de77ae"
            ],
            [
             0.3,
             "#f1b6da"
            ],
            [
             0.4,
             "#fde0ef"
            ],
            [
             0.5,
             "#f7f7f7"
            ],
            [
             0.6,
             "#e6f5d0"
            ],
            [
             0.7,
             "#b8e186"
            ],
            [
             0.8,
             "#7fbc41"
            ],
            [
             0.9,
             "#4d9221"
            ],
            [
             1,
             "#276419"
            ]
           ],
           "sequential": [
            [
             0,
             "#0d0887"
            ],
            [
             0.1111111111111111,
             "#46039f"
            ],
            [
             0.2222222222222222,
             "#7201a8"
            ],
            [
             0.3333333333333333,
             "#9c179e"
            ],
            [
             0.4444444444444444,
             "#bd3786"
            ],
            [
             0.5555555555555556,
             "#d8576b"
            ],
            [
             0.6666666666666666,
             "#ed7953"
            ],
            [
             0.7777777777777778,
             "#fb9f3a"
            ],
            [
             0.8888888888888888,
             "#fdca26"
            ],
            [
             1,
             "#f0f921"
            ]
           ],
           "sequentialminus": [
            [
             0,
             "#0d0887"
            ],
            [
             0.1111111111111111,
             "#46039f"
            ],
            [
             0.2222222222222222,
             "#7201a8"
            ],
            [
             0.3333333333333333,
             "#9c179e"
            ],
            [
             0.4444444444444444,
             "#bd3786"
            ],
            [
             0.5555555555555556,
             "#d8576b"
            ],
            [
             0.6666666666666666,
             "#ed7953"
            ],
            [
             0.7777777777777778,
             "#fb9f3a"
            ],
            [
             0.8888888888888888,
             "#fdca26"
            ],
            [
             1,
             "#f0f921"
            ]
           ]
          },
          "colorway": [
           "#636efa",
           "#EF553B",
           "#00cc96",
           "#ab63fa",
           "#FFA15A",
           "#19d3f3",
           "#FF6692",
           "#B6E880",
           "#FF97FF",
           "#FECB52"
          ],
          "font": {
           "color": "#2a3f5f"
          },
          "geo": {
           "bgcolor": "white",
           "lakecolor": "white",
           "landcolor": "#E5ECF6",
           "showlakes": true,
           "showland": true,
           "subunitcolor": "white"
          },
          "hoverlabel": {
           "align": "left"
          },
          "hovermode": "closest",
          "mapbox": {
           "style": "light"
          },
          "paper_bgcolor": "white",
          "plot_bgcolor": "#E5ECF6",
          "polar": {
           "angularaxis": {
            "gridcolor": "white",
            "linecolor": "white",
            "ticks": ""
           },
           "bgcolor": "#E5ECF6",
           "radialaxis": {
            "gridcolor": "white",
            "linecolor": "white",
            "ticks": ""
           }
          },
          "scene": {
           "xaxis": {
            "backgroundcolor": "#E5ECF6",
            "gridcolor": "white",
            "gridwidth": 2,
            "linecolor": "white",
            "showbackground": true,
            "ticks": "",
            "zerolinecolor": "white"
           },
           "yaxis": {
            "backgroundcolor": "#E5ECF6",
            "gridcolor": "white",
            "gridwidth": 2,
            "linecolor": "white",
            "showbackground": true,
            "ticks": "",
            "zerolinecolor": "white"
           },
           "zaxis": {
            "backgroundcolor": "#E5ECF6",
            "gridcolor": "white",
            "gridwidth": 2,
            "linecolor": "white",
            "showbackground": true,
            "ticks": "",
            "zerolinecolor": "white"
           }
          },
          "shapedefaults": {
           "line": {
            "color": "#2a3f5f"
           }
          },
          "ternary": {
           "aaxis": {
            "gridcolor": "white",
            "linecolor": "white",
            "ticks": ""
           },
           "baxis": {
            "gridcolor": "white",
            "linecolor": "white",
            "ticks": ""
           },
           "bgcolor": "#E5ECF6",
           "caxis": {
            "gridcolor": "white",
            "linecolor": "white",
            "ticks": ""
           }
          },
          "title": {
           "x": 0.05
          },
          "xaxis": {
           "automargin": true,
           "gridcolor": "white",
           "linecolor": "white",
           "ticks": "",
           "title": {
            "standoff": 15
           },
           "zerolinecolor": "white",
           "zerolinewidth": 2
          },
          "yaxis": {
           "automargin": true,
           "gridcolor": "white",
           "linecolor": "white",
           "ticks": "",
           "title": {
            "standoff": 15
           },
           "zerolinecolor": "white",
           "zerolinewidth": 2
          }
         }
        },
        "title": {
         "text": "Scatter Plot of Price vs Distance"
        },
        "xaxis": {
         "anchor": "y",
         "domain": [
          0,
          1
         ],
         "title": {
          "text": "price"
         }
        },
        "yaxis": {
         "anchor": "x",
         "domain": [
          0,
          1
         ],
         "title": {
          "text": "distance"
         }
        }
       }
      }
     },
     "metadata": {},
     "output_type": "display_data"
    }
   ],
   "source": [
    "fig.show()\n"
   ]
  },
  {
   "cell_type": "code",
   "execution_count": 9,
   "metadata": {},
   "outputs": [
    {
     "data": {
      "text/html": [
       "\n",
       "        <iframe\n",
       "            width=\"100%\"\n",
       "            height=\"650\"\n",
       "            src=\"http://127.0.0.1:8050/\"\n",
       "            frameborder=\"0\"\n",
       "            allowfullscreen\n",
       "            \n",
       "        ></iframe>\n",
       "        "
      ],
      "text/plain": [
       "<IPython.lib.display.IFrame at 0x1ea90b60800>"
      ]
     },
     "metadata": {},
     "output_type": "display_data"
    }
   ],
   "source": [
    "app = dash.Dash(__name__)\n",
    "\n",
    "app.layout = html.Div([\n",
    "    html.H1(\"Hotel Data Dashboard\"),\n",
    "    \n",
    "    dcc.Input(id='location-input', type='text', placeholder='Enter Location'),\n",
    "    \n",
    "    dcc.DatePickerRange(\n",
    "        id='date-input',\n",
    "        start_date= datetime.today().date(),\n",
    "        end_date= datetime.today().date()+ timedelta(days=1)\n",
    "    ),\n",
    "\n",
    "    html.Button('ENTER', id='enter-button', n_clicks=0),\n",
    "    \n",
    "    dcc.Graph(id='scatter-plot'),\n",
    "])\n",
    "\n",
    "@app.callback(\n",
    "    Output('scatter-plot', 'figure'),\n",
    "    [Input('enter-button', 'n_clicks')],\n",
    "    [Input('location-input', 'value'),\n",
    "     Input('date-input', 'start_date'),\n",
    "     Input('date-input', 'end_date')]\n",
    ")\n",
    "def update_scatter_plot(n_clicks, location, start_date, end_date):\n",
    "\n",
    "    if n_clicks > 0:\n",
    "\n",
    "        data = webcrawler(location, start_date, end_date)\n",
    "\n",
    "\n",
    "        fig = px.scatter(data, x='price', y='distance', color='ratings',\n",
    "                        title=f'Hotel Price and Distance Scatter Plot in {location} from {start_date} to {end_date}',\n",
    "                        labels={'price': 'Price', 'distance': 'Distance', 'ratings': 'Ratings'})\n",
    "\n",
    "        return fig\n",
    "    else:\n",
    "\n",
    "        return {}\n",
    "\n",
    "if __name__ == '__main__':\n",
    "    app.run_server(debug=True, use_reloader=False)\n"
   ]
  }
 ],
 "metadata": {
  "kernelspec": {
   "display_name": "Python 3",
   "language": "python",
   "name": "python3"
  },
  "language_info": {
   "codemirror_mode": {
    "name": "ipython",
    "version": 3
   },
   "file_extension": ".py",
   "mimetype": "text/x-python",
   "name": "python",
   "nbconvert_exporter": "python",
   "pygments_lexer": "ipython3",
   "version": "3.12.0"
  }
 },
 "nbformat": 4,
 "nbformat_minor": 2
}
